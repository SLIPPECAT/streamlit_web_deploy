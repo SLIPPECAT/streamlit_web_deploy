{
 "cells": [
  {
   "cell_type": "code",
   "execution_count": 2,
   "metadata": {},
   "outputs": [],
   "source": [
    "import os\n",
    "import warnings\n",
    "import numpy as np\n",
    "import pandas as pd\n",
    "import matplotlib.pyplot as plt\n",
    "import seaborn as sns\n",
    "\n",
    "warnings.filterwarnings('ignore')\n",
    "\n",
    "pd.set_option('display.float_format', '{:.lf}'.format)\n",
    "pd.set_option('display.max_columns', None)\n",
    "\n",
    "plt.rcParams['font.family'] = 'AppleGothic'\n",
    "\n",
    "DATA_DIR = '/Users/ryujun-yeong/Downloads/data/'"
   ]
  },
  {
   "cell_type": "markdown",
   "metadata": {},
   "source": [
    "## 데이터 (국민연금공단_국민연금 가입 사업장 내역)\n",
    "- 데이터셋 출처: 공공 데이터 포털(data.go.kr) 2024년 03월 21일 기준 데이터\n",
    "- 형태: 파일데이터(csv)\n",
    "(국민연금가입수급정보) 법정동단위 지역별, 국민연금 가입 사업장 정보\n",
    "* 단, 개인사업장 및 2인 이하 법인 사업장 정보 미제공\n",
    "*사업장 컬럼별 상세설명\n",
    "○ 자료생성년월 → 자격마감일(사유발생일이 속하는 달의 다음달 15일)까지 신고분 반영\n",
    "○ 가입자 수 → 가입자 수(고지인원 수 포함)\n",
    "○ 당월고지금액 → 국민연금법 시행령 제5조에 의거 기준소득월액 상한액 적용으로 실제소득과 고지금액은 상이할 수 있음\n",
    "■상한액 2019.7. ~ 2020.6. 4,860,000원\n",
    "■상한액 2020.7. ~ 2021.6. 5,030,000원\n",
    "■상한액 2021.7. ~ 2022.6. 5,240,000원\n",
    "■상한액 2022.7. ~ 2023.6. 5,530,000원\n",
    "■상한액 2023.7. ~ 2024.7. 5,900,000원\n",
    "○ 신규취득자수 → 납부재개 포함 ※전달 고지대상자와 비교하므로 실제 취득자수와 상이할 수 있음(초일 취득이 아닌 경우 당월 미고지되면 다음 달 취득자 수에 반영)\n",
    "○ 상실가입자수 → 납부예외 포함. ※해당 자료추출월과 익월을 비교하여 자료추출월에는 고지가 있으나 익월에는 고지가 없는 대상자에 대한 건수를 제공하므로 실제 상실자 수와 상이할 수 있음(초일이 아닌 상실자는 다음달 상실자 수에 반영)\n",
    "\n",
    "국민연금 가입 사업장 내역 2024년 2월 자료로 해당 자료는 3월 21일에 추출이 되었으며, 자료의 내용은 전월(2024년 2월의 사업장) 입니다. 해당 자료는 15일 자격이 마감되는 날을 기준으로 이틀 후에 자료를 생성하고 있으며, 15일이 주말인 경우에는 다음주 영업일에 마감처리 및 이틀후에 자료생성(사업장의 미신고로 업종코드 등 공란존재)"
   ]
  },
  {
   "cell_type": "code",
   "execution_count": 5,
   "metadata": {},
   "outputs": [
    {
     "data": {
      "text/html": [
       "<div>\n",
       "<style scoped>\n",
       "    .dataframe tbody tr th:only-of-type {\n",
       "        vertical-align: middle;\n",
       "    }\n",
       "\n",
       "    .dataframe tbody tr th {\n",
       "        vertical-align: top;\n",
       "    }\n",
       "\n",
       "    .dataframe thead th {\n",
       "        text-align: right;\n",
       "    }\n",
       "</style>\n",
       "<table border=\"1\" class=\"dataframe\">\n",
       "  <thead>\n",
       "    <tr style=\"text-align: right;\">\n",
       "      <th></th>\n",
       "      <th>자료생성년월</th>\n",
       "      <th>사업장명</th>\n",
       "      <th>사업자등록번호</th>\n",
       "      <th>사업장가입상태코드 1 등록 2 탈퇴</th>\n",
       "      <th>우편번호</th>\n",
       "      <th>사업장지번상세주소</th>\n",
       "      <th>사업장도로명상세주소</th>\n",
       "      <th>고객법정동주소코드</th>\n",
       "      <th>고객행정동주소코드</th>\n",
       "      <th>법정동주소광역시도코드</th>\n",
       "      <th>법정동주소광역시시군구코드</th>\n",
       "      <th>법정동주소광역시시군구읍면동코드</th>\n",
       "      <th>사업장형태구분코드 1 법인 2 개인</th>\n",
       "      <th>사업장업종코드</th>\n",
       "      <th>사업장업종코드명</th>\n",
       "      <th>적용일자</th>\n",
       "      <th>재등록일자</th>\n",
       "      <th>탈퇴일자</th>\n",
       "      <th>가입자수</th>\n",
       "      <th>당월고지금액</th>\n",
       "      <th>신규취득자수</th>\n",
       "      <th>상실가입자수</th>\n",
       "    </tr>\n",
       "  </thead>\n",
       "  <tbody>\n",
       "    <tr>\n",
       "      <th>0</th>\n",
       "      <td>2024-02</td>\n",
       "      <td>(유)삼송</td>\n",
       "      <td>116810</td>\n",
       "      <td>1</td>\n",
       "      <td>06776</td>\n",
       "      <td>서울특별시 서초구 양재동</td>\n",
       "      <td>서울특별시 서초구 마방로6길</td>\n",
       "      <td>1165010200</td>\n",
       "      <td>1165065200</td>\n",
       "      <td>11</td>\n",
       "      <td>650</td>\n",
       "      <td>102</td>\n",
       "      <td>1</td>\n",
       "      <td></td>\n",
       "      <td>NaN</td>\n",
       "      <td>1988-01-01</td>\n",
       "      <td>NaN</td>\n",
       "      <td>NaN</td>\n",
       "      <td>210</td>\n",
       "      <td>74242620</td>\n",
       "      <td>8</td>\n",
       "      <td>5</td>\n",
       "    </tr>\n",
       "  </tbody>\n",
       "</table>\n",
       "</div>"
      ],
      "text/plain": [
       "    자료생성년월   사업장명  사업자등록번호  사업장가입상태코드 1 등록 2 탈퇴   우편번호      사업장지번상세주소  \\\n",
       "0  2024-02  (유)삼송   116810                    1  06776  서울특별시 서초구 양재동   \n",
       "\n",
       "        사업장도로명상세주소   고객법정동주소코드   고객행정동주소코드  법정동주소광역시도코드  법정동주소광역시시군구코드  \\\n",
       "0  서울특별시 서초구 마방로6길  1165010200  1165065200           11            650   \n",
       "\n",
       "   법정동주소광역시시군구읍면동코드  사업장형태구분코드 1 법인 2 개인 사업장업종코드 사업장업종코드명        적용일자 재등록일자  \\\n",
       "0               102                    1              NaN  1988-01-01   NaN   \n",
       "\n",
       "  탈퇴일자  가입자수    당월고지금액  신규취득자수  상실가입자수  \n",
       "0  NaN   210  74242620       8       5  "
      ]
     },
     "execution_count": 5,
     "metadata": {},
     "output_type": "execute_result"
    }
   ],
   "source": [
    "df = pd.read_csv(os.path.join(DATA_DIR, 'national-pension.csv'), encoding='cp949')\n",
    "df.head(1)"
   ]
  },
  {
   "cell_type": "code",
   "execution_count": null,
   "metadata": {},
   "outputs": [],
   "source": [
    "df.columns = ['사업장명', '사업자등록번호', '사업장가입상태코드 1등록 2탈퇴', '우편변호', '사업장도로명상세주소',\n",
    "             '법정동주소광역시도코드', '법정동광역시군구읍면동콛']"
   ]
  },
  {
   "cell_type": "code",
   "execution_count": null,
   "metadata": {},
   "outputs": [],
   "source": []
  }
 ],
 "metadata": {
  "kernelspec": {
   "display_name": "Python 3 (ipykernel)",
   "language": "python",
   "name": "python3"
  },
  "language_info": {
   "codemirror_mode": {
    "name": "ipython",
    "version": 3
   },
   "file_extension": ".py",
   "mimetype": "text/x-python",
   "name": "python",
   "nbconvert_exporter": "python",
   "pygments_lexer": "ipython3",
   "version": "3.11.4"
  },
  "toc": {
   "base_numbering": 1,
   "nav_menu": {},
   "number_sections": true,
   "sideBar": true,
   "skip_h1_title": false,
   "title_cell": "Table of Contents",
   "title_sidebar": "Contents",
   "toc_cell": false,
   "toc_position": {},
   "toc_section_display": true,
   "toc_window_display": false
  }
 },
 "nbformat": 4,
 "nbformat_minor": 2
}
